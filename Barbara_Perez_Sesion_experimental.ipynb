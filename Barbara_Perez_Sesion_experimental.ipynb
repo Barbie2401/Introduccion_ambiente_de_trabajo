{
 "cells": [
  {
   "cell_type": "markdown",
   "id": "d529dc4b",
   "metadata": {},
   "source": [
    "# <center><font color='MediumSeaGreen'> Desafío guiado - Introducción al ambiente de trabajo </font><center>\n",
    "    \n",
    "   \n",
    "<center><b> Bárbara Pérez </b><center>"
   ]
  },
  {
   "cell_type": "markdown",
   "id": "7e192e00",
   "metadata": {},
   "source": [
    "____________________________________________________________"
   ]
  },
  {
   "cell_type": "markdown",
   "id": "ea02959d",
   "metadata": {},
   "source": [
    "## <font color='MediumSeaGreen'>Requerimientos</font>"
   ]
  },
  {
   "cell_type": "markdown",
   "id": "c193dfbb",
   "metadata": {},
   "source": [
    "<b><font color='MediumSeaGreen'>1.</font> Hola Mundo (1 pto): </b>\n",
    "    Utilice el método <span style='background:WhiteSmoke'><font color='MediumSeaGreen'>print</font></span> \n",
    "    para mostrar en pantalla la siguiente\n",
    "línea:\n",
    "\n",
    " <i>Hola Mundo, esta es mi primera incursión en Python <\\i>"
   ]
  },
  {
   "cell_type": "code",
   "execution_count": 1,
   "id": "304e3237",
   "metadata": {
    "scrolled": true
   },
   "outputs": [
    {
     "name": "stdout",
     "output_type": "stream",
     "text": [
      "Hola Mundo, esta es mi primera incursión en Python\n"
     ]
    }
   ],
   "source": [
    "print ('Hola Mundo, esta es mi primera incursión en Python')"
   ]
  },
  {
   "cell_type": "markdown",
   "id": "97d22f9a",
   "metadata": {},
   "source": [
    " _________"
   ]
  },
  {
   "cell_type": "markdown",
   "id": "6ace5718",
   "metadata": {},
   "source": [
    "<b><font color='MediumSeaGreen'>2.</font> Ingreso de variables (2 ptos): </b> Ingrese una serie de datos respecto a su información personal. Esta información debe estar ingresada en variables para su posterior uso.\n",
    "\n",
    "Ingrese los siguientes datos:"
   ]
  },
  {
   "cell_type": "markdown",
   "id": "b2577f6b",
   "metadata": {},
   "source": [
    "- Su nombre.\n",
    "- Edad.\n",
    "- Una lista con sus 3 actividades favoritas.\n",
    "- ¿Tiene mascotas?"
   ]
  },
  {
   "cell_type": "code",
   "execution_count": 2,
   "id": "188e3a50",
   "metadata": {},
   "outputs": [],
   "source": [
    "name = 'Bárbara Pérez'\n",
    "edad= 27\n",
    "actividades_favoritas=['estudiar Data Science', 'ver series', 'practicar pole dance sport']\n",
    "tiene_mascotas=True"
   ]
  },
  {
   "cell_type": "markdown",
   "id": "da69abb4",
   "metadata": {},
   "source": [
    "_______________"
   ]
  },
  {
   "cell_type": "markdown",
   "id": "d804ace5",
   "metadata": {},
   "source": [
    "<b><font color='MediumSeaGreen'>3.</font> Imprimir variables (2 ptos): </b> "
   ]
  },
  {
   "cell_type": "markdown",
   "id": "22f58e1c",
   "metadata": {},
   "source": [
    "- Imprima cada variable creada: acceda al segundo elemento de su lista.\n",
    "\n",
    "- Pida los tipos de datos asociados.\n",
    "\n",
    "- Interpole los datos en un método print para generar una presentación sobre usted.\n",
    "\n"
   ]
  },
  {
   "cell_type": "code",
   "execution_count": 3,
   "id": "594f21df",
   "metadata": {},
   "outputs": [
    {
     "name": "stdout",
     "output_type": "stream",
     "text": [
      "Nombre: Bárbara Pérez.\n",
      "Edad: 27.\n",
      "Actividad favorita: ver series.\n",
      "¿Tienes mascotas?: True.\n"
     ]
    }
   ],
   "source": [
    "print(f'Nombre: {name}.')\n",
    "print(f'Edad: {edad}.')\n",
    "print(f'Actividad favorita: {actividades_favoritas[1]}.')\n",
    "print(f'¿Tienes mascotas?: {tiene_mascotas}.')"
   ]
  },
  {
   "cell_type": "code",
   "execution_count": 4,
   "id": "2ab12666",
   "metadata": {},
   "outputs": [
    {
     "name": "stdout",
     "output_type": "stream",
     "text": [
      "Tipo de dato de la variable \u001b[1mNombre\u001b[0m:<class 'str'>\n",
      "Tipo de dato de la variable \u001b[1mEdad\u001b[0m: <class 'int'>\n",
      "Tipo de dato de la variable \u001b[1mActividades favoritas\u001b[0m: <class 'list'> \n",
      "Tipo de dato de la variable \u001b[1mMascotas\u001b[0m: <class 'bool'> \n"
     ]
    }
   ],
   "source": [
    "print(f'Tipo de dato de la variable \\033[1mNombre\\033[0m:{type(name)}')\n",
    "print(f'Tipo de dato de la variable \\033[1mEdad\\033[0m: {type(edad)}')\n",
    "print(f'Tipo de dato de la variable \\033[1mActividades favoritas\\033[0m: {type(actividades_favoritas)} ')\n",
    "print(f'Tipo de dato de la variable \\033[1mMascotas\\033[0m: {type(tiene_mascotas)} ')"
   ]
  },
  {
   "cell_type": "code",
   "execution_count": 5,
   "id": "1dd12e10",
   "metadata": {
    "scrolled": true
   },
   "outputs": [
    {
     "name": "stdout",
     "output_type": "stream",
     "text": [
      "Hola, mi nombre es \u001b[1mBárbara Pérez\u001b[0m.\n",
      "Tengo \u001b[1m27\u001b[0m años de edad.\n",
      "Mis actividades favoritas son: \u001b[1mestudiar Data Science\u001b[0m, \u001b[1mver series\u001b[0m, y \u001b[1mpracticar pole dance sport\u001b[0m.\n",
      "¿Tengo mascotas?: \u001b[1mTrue\u001b[0m.\n"
     ]
    }
   ],
   "source": [
    "print(f\"\"\"Hola, mi nombre es \\033[1m{name}\\033[0m.\n",
    "Tengo \\033[1m{edad}\\033[0m años de edad.\n",
    "Mis actividades favoritas son: \\033[1m{actividades_favoritas[0]}\\033[0m, \\033[1m{actividades_favoritas[1]}\\033[0m, y \\033[1m{actividades_favoritas[2]}\\033[0m.\n",
    "¿Tengo mascotas?: \\033[1m{tiene_mascotas}\\033[0m.\"\"\")"
   ]
  },
  {
   "cell_type": "markdown",
   "id": "8d0a82ef",
   "metadata": {},
   "source": [
    "______________"
   ]
  },
  {
   "cell_type": "markdown",
   "id": "fca6fd12",
   "metadata": {},
   "source": [
    "<b><font color='MediumSeaGreen'>4.</font> Identificar códigos erróneos (2 ptos): </b> a continuación se presenta una serie de códigos que generan errores. Corríjalos y comente cuáles fueron las fallas."
   ]
  },
  {
   "cell_type": "markdown",
   "id": "d54fc856",
   "metadata": {},
   "source": [
    "#Error entregado: \n",
    "\n",
    "<span style='background:WhiteSmoke'>\n",
    "print(<font color='darkred'>'Estaba la pájara pinta sentada en el verde limón</font>)\n",
    "</span>"
   ]
  },
  {
   "cell_type": "code",
   "execution_count": 6,
   "id": "48f440fb",
   "metadata": {},
   "outputs": [
    {
     "name": "stdout",
     "output_type": "stream",
     "text": [
      "Estaba la pájara pinta sentada en el verde limón\n"
     ]
    }
   ],
   "source": [
    "#Solución: Se coloca una comilla simple al final\n",
    "print('Estaba la pájara pinta sentada en el verde limón')"
   ]
  },
  {
   "cell_type": "markdown",
   "id": "40e2cce3",
   "metadata": {
    "scrolled": true
   },
   "source": [
    "#Error entregado:\n",
    "\n",
    "<span style='background:WhiteSmoke'>\n",
    "print(<font color='darkred'>'Mi nombre es' name 'y tengo' edad, 'años'</font>)\n",
    "</span>\n"
   ]
  },
  {
   "cell_type": "code",
   "execution_count": 7,
   "id": "cb49c4f1",
   "metadata": {},
   "outputs": [
    {
     "name": "stdout",
     "output_type": "stream",
     "text": [
      "Mi nombre es Bárbara Pérez y tengo 27 años\n"
     ]
    }
   ],
   "source": [
    "#Solución: agregar comas entre el texto y las variables\n",
    "print('Mi nombre es',name, 'y tengo',edad, 'años')"
   ]
  },
  {
   "cell_type": "markdown",
   "id": "6c01a4b3",
   "metadata": {},
   "source": [
    "#Error entregado:\n",
    "\n",
    "<span style='background:gainsboro'>\n",
    "<b>import</b> pandas <b>as</b> pd</span>"
   ]
  },
  {
   "cell_type": "markdown",
   "id": "ab82e61f",
   "metadata": {},
   "source": [
    "<span style='background:gainsboro'><b>import</b> numpy <b>as</b> np</span>"
   ]
  },
  {
   "cell_type": "code",
   "execution_count": 8,
   "id": "aa51b475",
   "metadata": {},
   "outputs": [],
   "source": [
    "#Corre sin problema\n",
    "import pandas as pd\n"
   ]
  },
  {
   "cell_type": "code",
   "execution_count": 9,
   "id": "3f8e06e6",
   "metadata": {},
   "outputs": [],
   "source": [
    "#Corre sin problema\n",
    "import numpy as np"
   ]
  },
  {
   "cell_type": "markdown",
   "id": "2c99579f",
   "metadata": {
    "scrolled": true
   },
   "source": [
    "#Error entregado:\n",
    "\n",
    "<span style='background:gainsboro'>\n",
    "<font color='maroon'>\"Ornitorrinco\"</font> + <font color='maroon'>45</font>\n",
    "</span>\n"
   ]
  },
  {
   "cell_type": "code",
   "execution_count": 10,
   "id": "9d0b7798",
   "metadata": {
    "scrolled": true
   },
   "outputs": [
    {
     "name": "stdout",
     "output_type": "stream",
     "text": [
      "Ornitorrinco45\n"
     ]
    }
   ],
   "source": [
    "#Solución:\n",
    "#Transformar el int a str\n",
    "#Se concatenan los str\n",
    "print(\"Ornitorrinco\" + str(45))"
   ]
  },
  {
   "cell_type": "markdown",
   "id": "85eb5a8d",
   "metadata": {},
   "source": [
    "_________"
   ]
  },
  {
   "cell_type": "markdown",
   "id": "b647f722",
   "metadata": {},
   "source": [
    "<br><b><font color='MediumSeaGreen'>5.</font> Utilizar pandas y numpy (3 ptos): </b>"
   ]
  },
  {
   "cell_type": "markdown",
   "id": "3d76ddaf",
   "metadata": {},
   "source": [
    "Para ello, sigue los siguientes pasos."
   ]
  },
  {
   "cell_type": "markdown",
   "id": "0747c3be",
   "metadata": {},
   "source": [
    "\n",
    "\n",
    "<font color='MediumSeaGreen'>A.</font> Importa <span style='background:gainsboro'>pandas</span> y  <span style='background:gainsboro'>numpy</span>.\n",
    "\n",
    "<font color='MediumSeaGreen'>B.</font> Posteriormente importa el archivo <span style='background:gainsboro'>flights.csv</span>.\n",
    "\n",
    "<font color='MediumSeaGreen'>C.</font> Solicita las primeras y últimas 5 observaciones de la tabla de datos.\n",
    "\n",
    "<font color='MediumSeaGreen'>D.</font> Utiliza <span style='background:gainsboro'>describe</span> para obtener las medidas univariadas de la columna year.\n",
    "\n",
    "<font color='MediumSeaGreen'>E.</font> Utiliza <span style='background:gainsboro'>value_counts</span> para obtener la frecuencia de meses y años de la tabla.\n",
    "\n",
    "<font color='MediumSeaGreen'>F.</font> Guarda en variables las primeras y últimas 15 observaciones de la tabla.\n",
    "\n",
    "<font color='MediumSeaGreen'>G.</font> Solicita la media, mediana y desviación estándar de la cantidad de pasajeros utilizando los métodos de <span style='background:gainsboro'>numpy</span>. Replique el procedimiento para las últimas y primeras 15 observaciones. Comente brevemente los resultados\n"
   ]
  },
  {
   "cell_type": "markdown",
   "id": "2fc3db2d",
   "metadata": {},
   "source": [
    "<b><font color='MediumSeaGreen'>A.</font> Importa <span style='background:gainsboro'>pandas</span> y  <span style='background:gainsboro'>numpy</span>.</b>"
   ]
  },
  {
   "cell_type": "code",
   "execution_count": 11,
   "id": "063c61ef",
   "metadata": {},
   "outputs": [],
   "source": [
    "import pandas as pd\n",
    "import numpy as np"
   ]
  },
  {
   "cell_type": "markdown",
   "id": "510e7af2",
   "metadata": {},
   "source": [
    "<b><font color='MediumSeaGreen'>B.</font> Posteriormente importa el archivo <span style='background:gainsboro'>flights.csv</span>.</b>\n"
   ]
  },
  {
   "cell_type": "code",
   "execution_count": 12,
   "id": "e859628d",
   "metadata": {},
   "outputs": [],
   "source": [
    "df = pd.read_csv('flights.csv')"
   ]
  },
  {
   "cell_type": "markdown",
   "id": "c7eb9f2e",
   "metadata": {},
   "source": [
    "<b><font color='MediumSeaGreen'>C.</font> Solicita las primeras y últimas 5 observaciones de la tabla de datos.\n",
    "</b>"
   ]
  },
  {
   "cell_type": "code",
   "execution_count": 13,
   "id": "f037c124",
   "metadata": {},
   "outputs": [
    {
     "data": {
      "text/html": [
       "<div>\n",
       "<style scoped>\n",
       "    .dataframe tbody tr th:only-of-type {\n",
       "        vertical-align: middle;\n",
       "    }\n",
       "\n",
       "    .dataframe tbody tr th {\n",
       "        vertical-align: top;\n",
       "    }\n",
       "\n",
       "    .dataframe thead th {\n",
       "        text-align: right;\n",
       "    }\n",
       "</style>\n",
       "<table border=\"1\" class=\"dataframe\">\n",
       "  <thead>\n",
       "    <tr style=\"text-align: right;\">\n",
       "      <th></th>\n",
       "      <th>year</th>\n",
       "      <th>month</th>\n",
       "      <th>passengers</th>\n",
       "    </tr>\n",
       "  </thead>\n",
       "  <tbody>\n",
       "    <tr>\n",
       "      <th>0</th>\n",
       "      <td>1949</td>\n",
       "      <td>January</td>\n",
       "      <td>112</td>\n",
       "    </tr>\n",
       "    <tr>\n",
       "      <th>1</th>\n",
       "      <td>1949</td>\n",
       "      <td>February</td>\n",
       "      <td>118</td>\n",
       "    </tr>\n",
       "    <tr>\n",
       "      <th>2</th>\n",
       "      <td>1949</td>\n",
       "      <td>March</td>\n",
       "      <td>132</td>\n",
       "    </tr>\n",
       "    <tr>\n",
       "      <th>3</th>\n",
       "      <td>1949</td>\n",
       "      <td>April</td>\n",
       "      <td>129</td>\n",
       "    </tr>\n",
       "    <tr>\n",
       "      <th>4</th>\n",
       "      <td>1949</td>\n",
       "      <td>May</td>\n",
       "      <td>121</td>\n",
       "    </tr>\n",
       "  </tbody>\n",
       "</table>\n",
       "</div>"
      ],
      "text/plain": [
       "   year     month  passengers\n",
       "0  1949   January         112\n",
       "1  1949  February         118\n",
       "2  1949     March         132\n",
       "3  1949     April         129\n",
       "4  1949       May         121"
      ]
     },
     "execution_count": 13,
     "metadata": {},
     "output_type": "execute_result"
    }
   ],
   "source": [
    "df.head() \n",
    "#Automaticamente devuelve 5 valores\n",
    "#También se puede usar df[:5]"
   ]
  },
  {
   "cell_type": "code",
   "execution_count": 14,
   "id": "750b889d",
   "metadata": {
    "scrolled": true
   },
   "outputs": [
    {
     "data": {
      "text/html": [
       "<div>\n",
       "<style scoped>\n",
       "    .dataframe tbody tr th:only-of-type {\n",
       "        vertical-align: middle;\n",
       "    }\n",
       "\n",
       "    .dataframe tbody tr th {\n",
       "        vertical-align: top;\n",
       "    }\n",
       "\n",
       "    .dataframe thead th {\n",
       "        text-align: right;\n",
       "    }\n",
       "</style>\n",
       "<table border=\"1\" class=\"dataframe\">\n",
       "  <thead>\n",
       "    <tr style=\"text-align: right;\">\n",
       "      <th></th>\n",
       "      <th>year</th>\n",
       "      <th>month</th>\n",
       "      <th>passengers</th>\n",
       "    </tr>\n",
       "  </thead>\n",
       "  <tbody>\n",
       "    <tr>\n",
       "      <th>139</th>\n",
       "      <td>1960</td>\n",
       "      <td>August</td>\n",
       "      <td>606</td>\n",
       "    </tr>\n",
       "    <tr>\n",
       "      <th>140</th>\n",
       "      <td>1960</td>\n",
       "      <td>September</td>\n",
       "      <td>508</td>\n",
       "    </tr>\n",
       "    <tr>\n",
       "      <th>141</th>\n",
       "      <td>1960</td>\n",
       "      <td>October</td>\n",
       "      <td>461</td>\n",
       "    </tr>\n",
       "    <tr>\n",
       "      <th>142</th>\n",
       "      <td>1960</td>\n",
       "      <td>November</td>\n",
       "      <td>390</td>\n",
       "    </tr>\n",
       "    <tr>\n",
       "      <th>143</th>\n",
       "      <td>1960</td>\n",
       "      <td>December</td>\n",
       "      <td>432</td>\n",
       "    </tr>\n",
       "  </tbody>\n",
       "</table>\n",
       "</div>"
      ],
      "text/plain": [
       "     year      month  passengers\n",
       "139  1960     August         606\n",
       "140  1960  September         508\n",
       "141  1960    October         461\n",
       "142  1960   November         390\n",
       "143  1960   December         432"
      ]
     },
     "execution_count": 14,
     "metadata": {},
     "output_type": "execute_result"
    }
   ],
   "source": [
    "df.tail() \n",
    "#Automaticamente devuelve 5 valores\n",
    "#También se puede usar df[:-5]"
   ]
  },
  {
   "cell_type": "markdown",
   "id": "6c9a8140",
   "metadata": {},
   "source": [
    "<b><font color='MediumSeaGreen'>D.</font> Utiliza <span style='background:gainsboro'>describe</span> para obtener las medidas univariadas de la columna year.\n",
    "</b>"
   ]
  },
  {
   "cell_type": "code",
   "execution_count": 15,
   "id": "f9fe9892",
   "metadata": {
    "scrolled": true
   },
   "outputs": [
    {
     "data": {
      "text/plain": [
       "count     144.000000\n",
       "mean     1954.500000\n",
       "std         3.464102\n",
       "min      1949.000000\n",
       "25%      1951.750000\n",
       "50%      1954.500000\n",
       "75%      1957.250000\n",
       "max      1960.000000\n",
       "Name: year, dtype: float64"
      ]
     },
     "execution_count": 15,
     "metadata": {},
     "output_type": "execute_result"
    }
   ],
   "source": [
    "df.describe()['year']"
   ]
  },
  {
   "cell_type": "markdown",
   "id": "35d76e4b",
   "metadata": {},
   "source": [
    "<b><font color='MediumSeaGreen'>E.</font> Utiliza <span style='background:gainsboro'>value_counts</span> para obtener la frecuencia de meses y años de la tabla.</b>\n"
   ]
  },
  {
   "cell_type": "code",
   "execution_count": 16,
   "id": "a1f07380",
   "metadata": {},
   "outputs": [
    {
     "data": {
      "text/plain": [
       "1949    12\n",
       "1950    12\n",
       "1951    12\n",
       "1952    12\n",
       "1953    12\n",
       "1954    12\n",
       "1955    12\n",
       "1956    12\n",
       "1957    12\n",
       "1958    12\n",
       "1959    12\n",
       "1960    12\n",
       "Name: year, dtype: int64"
      ]
     },
     "execution_count": 16,
     "metadata": {},
     "output_type": "execute_result"
    }
   ],
   "source": [
    "df['year'].value_counts()"
   ]
  },
  {
   "cell_type": "code",
   "execution_count": 17,
   "id": "37a71326",
   "metadata": {},
   "outputs": [
    {
     "data": {
      "text/plain": [
       "1949    0.083333\n",
       "1950    0.083333\n",
       "1951    0.083333\n",
       "1952    0.083333\n",
       "1953    0.083333\n",
       "1954    0.083333\n",
       "1955    0.083333\n",
       "1956    0.083333\n",
       "1957    0.083333\n",
       "1958    0.083333\n",
       "1959    0.083333\n",
       "1960    0.083333\n",
       "Name: year, dtype: float64"
      ]
     },
     "execution_count": 17,
     "metadata": {},
     "output_type": "execute_result"
    }
   ],
   "source": [
    "df['year'].value_counts('%')"
   ]
  },
  {
   "cell_type": "code",
   "execution_count": 18,
   "id": "24e02175",
   "metadata": {
    "scrolled": true
   },
   "outputs": [
    {
     "data": {
      "text/plain": [
       "January      12\n",
       "February     12\n",
       "March        12\n",
       "April        12\n",
       "May          12\n",
       "June         12\n",
       "July         12\n",
       "August       12\n",
       "September    12\n",
       "October      12\n",
       "November     12\n",
       "December     12\n",
       "Name: month, dtype: int64"
      ]
     },
     "execution_count": 18,
     "metadata": {},
     "output_type": "execute_result"
    }
   ],
   "source": [
    "df['month'].value_counts()"
   ]
  },
  {
   "cell_type": "markdown",
   "id": "aff03f8c",
   "metadata": {},
   "source": [
    "<b><font color='MediumSeaGreen'>F.</font> Guarda en variables las primeras y últimas 15 observaciones de la tabla.\n",
    "</b>"
   ]
  },
  {
   "cell_type": "code",
   "execution_count": 19,
   "id": "06683d86",
   "metadata": {},
   "outputs": [],
   "source": [
    "primeros_15= df.head(15) "
   ]
  },
  {
   "cell_type": "code",
   "execution_count": 20,
   "id": "1e0acb61",
   "metadata": {},
   "outputs": [
    {
     "name": "stdout",
     "output_type": "stream",
     "text": [
      "    year      month  passengers\n",
      "0   1949    January         112\n",
      "1   1949   February         118\n",
      "2   1949      March         132\n",
      "3   1949      April         129\n",
      "4   1949        May         121\n",
      "5   1949       June         135\n",
      "6   1949       July         148\n",
      "7   1949     August         148\n",
      "8   1949  September         136\n",
      "9   1949    October         119\n",
      "10  1949   November         104\n",
      "11  1949   December         118\n",
      "12  1950    January         115\n",
      "13  1950   February         126\n",
      "14  1950      March         141\n"
     ]
    }
   ],
   "source": [
    "print(primeros_15)"
   ]
  },
  {
   "cell_type": "code",
   "execution_count": 21,
   "id": "540127ae",
   "metadata": {},
   "outputs": [],
   "source": [
    "ultimas_15 = df.tail(15) "
   ]
  },
  {
   "cell_type": "code",
   "execution_count": 22,
   "id": "f9599e3d",
   "metadata": {
    "scrolled": true
   },
   "outputs": [
    {
     "name": "stdout",
     "output_type": "stream",
     "text": [
      "     year      month  passengers\n",
      "129  1959    October         407\n",
      "130  1959   November         362\n",
      "131  1959   December         405\n",
      "132  1960    January         417\n",
      "133  1960   February         391\n",
      "134  1960      March         419\n",
      "135  1960      April         461\n",
      "136  1960        May         472\n",
      "137  1960       June         535\n",
      "138  1960       July         622\n",
      "139  1960     August         606\n",
      "140  1960  September         508\n",
      "141  1960    October         461\n",
      "142  1960   November         390\n",
      "143  1960   December         432\n"
     ]
    }
   ],
   "source": [
    "print(ultimas_15)"
   ]
  },
  {
   "cell_type": "markdown",
   "id": "28d0109a",
   "metadata": {},
   "source": [
    "  "
   ]
  },
  {
   "cell_type": "markdown",
   "id": "9af2b1f6",
   "metadata": {},
   "source": [
    "<b><font color='MediumSeaGreen'>G.</font> Solicita la media, mediana y desviación estándar de la cantidad de pasajeros utilizando los métodos de <span style='background:gainsboro'>numpy</span>. Replique el procedimiento para las últimas y primeras 15 observaciones. Comente brevemente los resultados</b>\n"
   ]
  },
  {
   "cell_type": "code",
   "execution_count": 23,
   "id": "93bc5820",
   "metadata": {},
   "outputs": [],
   "source": [
    "mean = np.mean(df['passengers'])\n",
    "median = np.median(df['passengers'])\n",
    "sd = np.std(df['passengers'])"
   ]
  },
  {
   "cell_type": "code",
   "execution_count": 24,
   "id": "ee6b158a",
   "metadata": {},
   "outputs": [
    {
     "name": "stdout",
     "output_type": "stream",
     "text": [
      "Pasajeros:\n",
      "Media: 280.2986111111111\n",
      "Mediana: 265.5\n",
      "Desviación estandar:119.54904153277147\n"
     ]
    }
   ],
   "source": [
    "print(f\"\"\"Pasajeros:\n",
    "Media: {mean}\n",
    "Mediana: {median}\n",
    "Desviación estandar:{sd}\"\"\")"
   ]
  },
  {
   "cell_type": "markdown",
   "id": "df3b4575",
   "metadata": {},
   "source": [
    "***Replique el procedimiento para las últimas y\n",
    "primeras 15 observaciones. Comente brevemente los resultados***"
   ]
  },
  {
   "cell_type": "code",
   "execution_count": 25,
   "id": "89a027d0",
   "metadata": {},
   "outputs": [
    {
     "name": "stdout",
     "output_type": "stream",
     "text": [
      "Primeros 15 datos con NUMPY\n",
      "Media: 126.8\n",
      "Mediana: 126.0\n",
      "Desviación estandar:12.681745410891462\n"
     ]
    }
   ],
   "source": [
    "#Media, Mediana y desviación estandar con método NUMPY\n",
    "mean2_np = np.mean(primeros_15['passengers'])\n",
    "median2_np = np.median(primeros_15['passengers'])\n",
    "sd2_np = np.std(primeros_15['passengers'])\n",
    "\n",
    "print(f\"\"\"Primeros 15 datos con NUMPY\n",
    "Media: {mean2_np}\n",
    "Mediana: {median2_np}\n",
    "Desviación estandar:{sd2_np}\"\"\")"
   ]
  },
  {
   "cell_type": "code",
   "execution_count": 26,
   "id": "5154471b",
   "metadata": {},
   "outputs": [
    {
     "name": "stdout",
     "output_type": "stream",
     "text": [
      "Primeros 15 datos con PANDAS\n",
      "Media: 126.8\n",
      "Mediana: 126.0\n",
      "Desviación estandar:13.126853610606226\n"
     ]
    }
   ],
   "source": [
    "#Media, Mediana y desviación estandar con método PANADS\n",
    "mean2_pd = primeros_15['passengers'].mean()\n",
    "median2_pd = primeros_15['passengers'].median()\n",
    "sd2_pd = primeros_15['passengers'].std()\n",
    "\n",
    "print(f\"\"\"Primeros 15 datos con PANDAS\n",
    "Media: {mean2_pd}\n",
    "Mediana: {median2_pd}\n",
    "Desviación estandar:{sd2_pd}\"\"\")"
   ]
  },
  {
   "cell_type": "markdown",
   "id": "1d3dc511",
   "metadata": {},
   "source": [
    "PRIMEROS 15 DATOS :\n",
    "\n",
    "| Librerias | Media | Mediana | Desviación estandar|\n",
    "| :---: | :---: | :---: | :---: |\n",
    "| numpy | 126.8 | 126.0| 12.681745410891462 |\n",
    "| pandas   | 126.8 | 126.0)| 13.126853610606226 |"
   ]
  },
  {
   "cell_type": "code",
   "execution_count": 27,
   "id": "89c2cfb1",
   "metadata": {},
   "outputs": [
    {
     "name": "stdout",
     "output_type": "stream",
     "text": [
      "Ultimos 15 datos con NUMPY\n",
      "Media: 459.2\n",
      "Mediana: 432.0\n",
      "Desviación estandar:75.29426715671431\n"
     ]
    }
   ],
   "source": [
    "#Media, Mediana y desviación estandar con método NUMPY\n",
    "mean3_np = np.mean(ultimas_15['passengers'])\n",
    "median3_np = np.median(ultimas_15['passengers'])\n",
    "sd3_np = np.std(ultimas_15['passengers'])\n",
    "\n",
    "print(f\"\"\"Ultimos 15 datos con NUMPY\n",
    "Media: {mean3_np}\n",
    "Mediana: {median3_np}\n",
    "Desviación estandar:{sd3_np}\"\"\")"
   ]
  },
  {
   "cell_type": "code",
   "execution_count": 28,
   "id": "5df70fb9",
   "metadata": {
    "scrolled": true
   },
   "outputs": [
    {
     "name": "stdout",
     "output_type": "stream",
     "text": [
      "Ultimos 15 datos con PANDAS\n",
      "Media: 459.2\n",
      "Mediana: 432.0\n",
      "Desviación estandar:77.93697087115606\n"
     ]
    }
   ],
   "source": [
    "#Media, Mediana y desviación estandar con método PANDAS\n",
    "mean3_pd = ultimas_15['passengers'].mean()\n",
    "median3_pd = ultimas_15['passengers'].median()\n",
    "sd3_pd = ultimas_15['passengers'].std()\n",
    "\n",
    "print(f\"\"\"Ultimos 15 datos con PANDAS\n",
    "Media: {mean3_pd}\n",
    "Mediana: {median3_pd}\n",
    "Desviación estandar:{sd3_pd}\"\"\")"
   ]
  },
  {
   "cell_type": "markdown",
   "id": "b750ff33",
   "metadata": {},
   "source": [
    "ULTIMOS 15 DATOS :\n",
    "\n",
    "| Librerias | Media | Mediana | Desviación estandar|\n",
    "| :---: | :---: | :---: | :---: |\n",
    "| numpy | 459.2 | 432.0| 75.29426715671431 |\n",
    "| pandas   | 459.2 | 432.0 | 77.93697087115606 |"
   ]
  },
  {
   "cell_type": "markdown",
   "id": "d18a0ff3",
   "metadata": {},
   "source": [
    "Los resultados esperados son **distintos** solo en el caso de la **desviación estandar** ya que:\n",
    "\n",
    "**numpy:** sqrt ( 1 / n * sumatoria (media - observacion) ^ 2 )\n",
    "\n",
    "**pandas:** sqrt ( 1 / (n-1) * sumatoria (media - observacion) ^ 2 )\n",
    "\n",
    "pandas le resta 1 elemento para que no coincida con la media\n"
   ]
  },
  {
   "cell_type": "markdown",
   "id": "baafc1bd",
   "metadata": {},
   "source": [
    "_____"
   ]
  }
 ],
 "metadata": {
  "kernelspec": {
   "display_name": "Python 3",
   "language": "python",
   "name": "python3"
  },
  "language_info": {
   "codemirror_mode": {
    "name": "ipython",
    "version": 3
   },
   "file_extension": ".py",
   "mimetype": "text/x-python",
   "name": "python",
   "nbconvert_exporter": "python",
   "pygments_lexer": "ipython3",
   "version": "3.7.1"
  }
 },
 "nbformat": 4,
 "nbformat_minor": 5
}
